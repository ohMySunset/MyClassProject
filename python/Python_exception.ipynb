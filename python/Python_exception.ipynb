{
 "cells": [
  {
   "cell_type": "code",
   "execution_count": 5,
   "metadata": {
    "collapsed": true
   },
   "outputs": [
    {
     "name": "stdout",
     "output_type": "stream",
     "text": [
      "정수를 입력해주세요.>>5\n",
      "예외가 발생했습니다.\n"
     ]
    }
   ],
   "source": [
    "try :\n",
    "    number_input_a = input('정수를 입력해주세요.>>')\n",
    "    print(\"제곱의 연산 결과 : \",number_input_a*number_input_a)\n",
    "except :  # 어떠한 예외이든 이곳에서 처리\n",
    "    print('예외가 발생했습니다.')"
   ]
  },
  {
   "cell_type": "code",
   "execution_count": 10,
   "metadata": {
    "collapsed": true
   },
   "outputs": [
    {
     "name": "stdout",
     "output_type": "stream",
     "text": [
      "정수를 입력해주세요.>>6\n",
      "제곱의 연산 결과 :  36\n",
      "프로그램을 종료합니다.\n"
     ]
    }
   ],
   "source": [
    "try :\n",
    "    number_input_a = int(input('정수를 입력해주세요.>>'))    \n",
    "except :  # 어떠한 예외이든 이곳에서 처리\n",
    "    #pass : 처리할 내용이 없을 때 기술\n",
    "    print('예외가 발생했습니다.')\n",
    "else :    \n",
    "    print(\"제곱의 연산 결과 : \",number_input_a*number_input_a)\n",
    "finally :\n",
    "    print('프로그램을 종료합니다.')\n",
    "    "
   ]
  },
  {
   "cell_type": "code",
   "execution_count": null,
   "metadata": {},
   "outputs": [],
   "source": [
    "try :\n",
    "    number_input_a = int(input('정수를 입력해주세요.>>'))    \n",
    "except Exception as e :  # 어떠한 예외이든 이곳에서 처리\n",
    "    #pass : 처리할 내용이 없을 때 기술\n",
    "    print('예외가 발생했습니다.')\n",
    "    print(type(e))\n",
    "    print(e)\n",
    "else :    \n",
    "    print(\"제곱의 연산 결과 : \",number_input_a*number_input_a)\n",
    "finally :\n",
    "    print('프로그램을 종료합니다.')\n",
    "    "
   ]
  },
  {
   "cell_type": "code",
   "execution_count": null,
   "metadata": {},
   "outputs": [],
   "source": [
    "list_a = [10, 20, 30, 40, 50]\n",
    "\n",
    "try:\n",
    "    idx = int(input('리스트의 index를 입력하세요.')) # 예외 발생 예상 구문    \n",
    "    print('{}번 째 요소 :{}'.format(idx, list_a[idx])) # 예외 발생 예상 구문    \n",
    "except ValueError as ve:\n",
    "    print('숫자만 입력해주세요.')\n",
    "    print(ve)\n",
    "except IndexError as ie:\n",
    "    print('인덱스의 범위를 벗어났습니다.')\n",
    "    print(ie)"
   ]
  },
  {
   "cell_type": "code",
   "execution_count": null,
   "metadata": {},
   "outputs": [],
   "source": []
  }
 ],
 "metadata": {
  "kernelspec": {
   "display_name": "Python 3",
   "language": "python",
   "name": "python3"
  },
  "language_info": {
   "codemirror_mode": {
    "name": "ipython",
    "version": 3
   },
   "file_extension": ".py",
   "mimetype": "text/x-python",
   "name": "python",
   "nbconvert_exporter": "python",
   "pygments_lexer": "ipython3",
   "version": "3.8.5"
  }
 },
 "nbformat": 4,
 "nbformat_minor": 4
}

{
 "cells": [
  {
   "cell_type": "code",
   "execution_count": 10,
   "metadata": {},
   "outputs": [
    {
     "name": "stdout",
     "output_type": "stream",
     "text": [
      "['AA', 'BB', 'CC']\n",
      "\n",
      "<enumerate object at 0x7ff82ff507c0>\n",
      "[(0, 'AA'), (1, 'BB'), (2, 'CC')]\n",
      "0 AA\n",
      "\n",
      "0 AA\n",
      "1 BB\n",
      "2 CC\n"
     ]
    }
   ],
   "source": [
    "list_ex = ['AA','BB','CC']\n",
    "\n",
    "#list_ex 출력\n",
    "print(list_ex);\n",
    "print()\n",
    "\n",
    "# list_ex -> enumerate()\n",
    "list_ex_en = enumerate(list_ex)\n",
    "print(list_ex_en)\n",
    "\n",
    "# enumerate 객체 -> list 객체\n",
    "list_ex2 = list(list_ex_en)\n",
    "print(list_ex2)\n",
    "\n",
    "i, v = list_ex2[0]\n",
    "print(i,v)\n",
    "\n",
    "print()\n",
    "\n",
    "for i, v in list_ex2:\n",
    "    print(i, v)"
   ]
  },
  {
   "cell_type": "code",
   "execution_count": 17,
   "metadata": {},
   "outputs": [
    {
     "name": "stdout",
     "output_type": "stream",
     "text": [
      "{'name': '메시', 'number': '10', 'team': 'FCB'}\n",
      "dict_items([('name', '메시'), ('number', '10'), ('team', 'FCB')])\n",
      "name : 메시\n",
      "number : 10\n",
      "team : FCB\n"
     ]
    }
   ],
   "source": [
    "# items()\n",
    "# 딕셔너리의 반복문 작성 시 사용\n",
    "# item() : dic의 속성과 값을 하나로 묶어 요소로 만들고 이 요소들을 가지는 리스트를 반환\n",
    "\n",
    "dic_player = {\n",
    "    'name': '메시',\n",
    "    'number' : '10',\n",
    "    'team' : 'FCB'\n",
    "}\n",
    "print(dic_player)\n",
    "\n",
    "# dic -> list\n",
    "list_player_att = dic_player.items()\n",
    "print(list_player_att)\n",
    "\n",
    "for key, value in list_player_att:\n",
    "    print(key, ':', value)"
   ]
  },
  {
   "cell_type": "code",
   "execution_count": 27,
   "metadata": {},
   "outputs": [
    {
     "name": "stdout",
     "output_type": "stream",
     "text": [
      "[0, 4, 16, 36, 64, 100, 144, 196, 256, 324]\n",
      "[0, 4, 16, 36, 64, 100, 144, 196, 256, 324]\n",
      "[144, 196, 256, 324]\n"
     ]
    }
   ],
   "source": [
    "#list 요소 생성\n",
    "# list 내포 : 리스트 이름 = [표현식 for 반복자 in 반복할 수 있는 것]\n",
    "#1\n",
    "array = []\n",
    "\n",
    "for i in range(0,20,2): #(start, stop, step)\n",
    "    array.append(i*i)\n",
    "    \n",
    "print(array)    \n",
    "#2\n",
    "array2 = [i*i for i in range(0,20,2)]\n",
    "print(array2)\n",
    "\n",
    "#3\n",
    "array3 = [i for i in array2 if i>100]\n",
    "print(array3)\n"
   ]
  },
  {
   "cell_type": "code",
   "execution_count": 28,
   "metadata": {},
   "outputs": [
    {
     "name": "stdout",
     "output_type": "stream",
     "text": [
      "A\n",
      "A\n",
      "A\n"
     ]
    }
   ],
   "source": [
    "# 함수 정의\n",
    "# def 함수이름(매개변수, 매개변수, ....)\n",
    "\n",
    "def print_3_times():\n",
    "    print('A')\n",
    "    print('A')\n",
    "    print('A')\n",
    "    \n",
    "print_3_times()    "
   ]
  },
  {
   "cell_type": "code",
   "execution_count": 35,
   "metadata": {},
   "outputs": [
    {
     "name": "stdout",
     "output_type": "stream",
     "text": [
      "Python\n",
      "Python\n",
      "Python\n",
      "함수의 기능 실행 완료\n"
     ]
    }
   ],
   "source": [
    "def print_n_times(val, n):\n",
    "    for i in range(n):\n",
    "        print(val)\n",
    "    print('함수의 기능 실행 완료')    \n",
    "    \n",
    "print_n_times('Python', 3)     \n",
    "\n",
    "#print_n_times('Python') -> error"
   ]
  },
  {
   "cell_type": "code",
   "execution_count": 37,
   "metadata": {},
   "outputs": [
    {
     "name": "stdout",
     "output_type": "stream",
     "text": [
      "Hi~\n",
      "funny\n",
      "Python Programming\n",
      "\n",
      "Hi~\n",
      "funny\n",
      "Python Programming\n",
      "\n",
      "Hi~\n",
      "funny\n",
      "Python Programming\n",
      "\n",
      "함수 종료\n"
     ]
    }
   ],
   "source": [
    "# 함수의 가변 매개변수 : 매개변수를 원하는 만큼 받을 수 있는 함수 \n",
    "def print_times(n, *vals):\n",
    "    for i in range(n):\n",
    "        for val in vals:\n",
    "            print(val)\n",
    "        print()\n",
    "    print('함수 종료')\n",
    "\n",
    "print_times(3, 'Hi~', 'funny', 'Python Programming')\n",
    "    "
   ]
  },
  {
   "cell_type": "code",
   "execution_count": 45,
   "metadata": {},
   "outputs": [
    {
     "name": "stdout",
     "output_type": "stream",
     "text": [
      "aa bb cc\n",
      "aa bb cc\taa/bb/cc\t11:12:32\n"
     ]
    }
   ],
   "source": [
    "# 기본 매개변수 : 매개 변수를 입력하지 않았을 때 들어가는 기본값\n",
    "# print -> sep='', end='`\\n', file=sys.stdout, flush=False\n",
    "print('aa','bb','cc')\n",
    "print('aa','bb','cc', end='\\t')\n",
    "print('aa','bb','cc', sep='/', end=\"\\t\")\n",
    "print('11','12','32', sep=':')"
   ]
  },
  {
   "cell_type": "code",
   "execution_count": 48,
   "metadata": {},
   "outputs": [
    {
     "name": "stdout",
     "output_type": "stream",
     "text": [
      "Hi~\n",
      "funny\n",
      "Python Programming\n",
      "\n",
      "Hi~\n",
      "funny\n",
      "Python Programming\n",
      "\n",
      "Hi~\n",
      "funny\n",
      "Python Programming\n",
      "\n",
      "함수 종료\n"
     ]
    }
   ],
   "source": [
    "# 키워드 매개변수 : 매개변수 이름을 지정해서 입력\n",
    "def print_nn_times(*vals, n=2):\n",
    "    for i in range(n):\n",
    "        for val in vals:\n",
    "            print(val)\n",
    "        print()\n",
    "    print('함수 종료')\n",
    "\n",
    "print_nn_times('Hi~', 'funny', 'Python Programming', n=3) # n을 3으로 지정"
   ]
  },
  {
   "cell_type": "code",
   "execution_count": 51,
   "metadata": {},
   "outputs": [
    {
     "name": "stdout",
     "output_type": "stream",
     "text": [
      "None\n"
     ]
    }
   ],
   "source": [
    "# 함수의 return\n",
    "def func():\n",
    "    return  # 아무것도 반환하지 않을 경우 결과값은 None\n",
    "\n",
    "print(func())"
   ]
  },
  {
   "cell_type": "code",
   "execution_count": 65,
   "metadata": {},
   "outputs": [
    {
     "name": "stdout",
     "output_type": "stream",
     "text": [
      "10 20 30 40 50 60\n",
      "20 10\n",
      "<map object at 0x7ff8300799d0>\n",
      "[1, 4, 9, 16, 25]\n",
      "<filter object at 0x7ff830079310>\n",
      "[1, 2]\n"
     ]
    }
   ],
   "source": [
    "# 튜플 : 함수와 함께 사용하는 리스트와 비슷한 자료형, 한번 결정된 요소를 바꿀 수 없음\n",
    "\n",
    "[a,b] = [10,20] # 리스트\n",
    "(c,d) = (30,40) # 튜플\n",
    "e,f = 50,60  # 튜플\n",
    "\n",
    "print(a,b,c,d,e,f)\n",
    "\n",
    "# 변수의 값을 교환하는 튜플\n",
    "a,b = 10,20\n",
    "a,b = b,a\n",
    "print(a,b)\n",
    "\n",
    "def power(item):\n",
    "    return item*item\n",
    "\n",
    "def under_3(item):\n",
    "    return item<3\n",
    "\n",
    "list_a = [1,2,3,4,5]\n",
    "\n",
    "# map() 이용해서 리스트 생성\n",
    "output_a = map(power, list_a)\n",
    "print(output_a)\n",
    "output_list_a = list(output_a)\n",
    "print(output_list_a)\n",
    "\n",
    "# filter() 이용해서 리스트 생성 \n",
    "output_b = filter(under_3, list_a)\n",
    "print(output_b)\n",
    "output_list_b = list(output_b)\n",
    "print(output_list_b)"
   ]
  },
  {
   "cell_type": "code",
   "execution_count": 67,
   "metadata": {},
   "outputs": [
    {
     "name": "stdout",
     "output_type": "stream",
     "text": [
      "<map object at 0x7ff830071b50>\n",
      "[1, 4, 9, 16, 25]\n",
      "<filter object at 0x7ff830071820>\n",
      "[1, 2]\n"
     ]
    }
   ],
   "source": [
    "# 람다 : 매개변수로 함수를 전달하는 경우, 함수를 간단하고 쉽게 선언하는 방법\n",
    "\n",
    "list_a = [1,2,3,4,5]\n",
    "\n",
    "# map() 이용해서 리스트 생성\n",
    "output_a = map(lambda x: x*x, list_a)\n",
    "print(output_a)\n",
    "output_list_a = list(output_a)\n",
    "print(output_list_a)\n",
    "\n",
    "# filter() 이용해서 리스트 생성 \n",
    "output_b = filter(lambda x: x<3, list_a)\n",
    "print(output_b)\n",
    "output_list_b = list(output_b)\n",
    "print(output_list_b)"
   ]
  },
  {
   "cell_type": "code",
   "execution_count": 71,
   "metadata": {},
   "outputs": [],
   "source": [
    "# 파일 처리 : open() -> 파일 I/O 처리할 때 사용  \n",
    "# r(read) : 읽기용 , w(write) : 쓰기용, a(append) : 뒤에 이어서 쓰기\n",
    "\n",
    "file = open('basic.txt', 'w')\n",
    "file.write('Hello~Python!!')\n",
    "file.close()"
   ]
  },
  {
   "cell_type": "code",
   "execution_count": 73,
   "metadata": {},
   "outputs": [],
   "source": [
    "# with : open() 함수 사용 후에 close() 함수를 자동으로 호출\n",
    "with open('basic.txt', 'w') as file:\n",
    "    file.write('So Fun!') # 기존에 썼던 데이터는 없어짐\n",
    "    "
   ]
  },
  {
   "cell_type": "code",
   "execution_count": 75,
   "metadata": {},
   "outputs": [
    {
     "name": "stdout",
     "output_type": "stream",
     "text": [
      "<class 'str'>\n",
      "So Fun!\n"
     ]
    }
   ],
   "source": [
    "# read() : 파일의 내용 텍스트 읽기\n",
    "\n",
    "with open('basic.txt', 'r') as file:\n",
    "    content = file.read()\n",
    "    print(type(content))\n",
    "    print(content)\n",
    "    "
   ]
  },
  {
   "cell_type": "code",
   "execution_count": 81,
   "metadata": {},
   "outputs": [
    {
     "name": "stdout",
     "output_type": "stream",
     "text": [
      "['가', '나', '다', '라', '마', '바', '사', '아', '자', '차', '카', '타', '파', '하']\n",
      "파일 생성 완료\n"
     ]
    }
   ],
   "source": [
    "import random\n",
    "han = list('가나다라마바사아자차카타파하')\n",
    "print(han)\n",
    "\n",
    "with open('innfo.txt', 'w') as file:\n",
    "    for i in range(1000):\n",
    "              name = random.choice(han)+random.choice(han)+random.choice(han)\n",
    "              weight = random.randrange(40, 100)\n",
    "              height = random.randrange(140, 200)\n",
    "\n",
    "              file.write('{},{},{}\\n'.format(name, weight, height))\n",
    "    print('파일 생성 완료')            \n",
    "          "
   ]
  },
  {
   "cell_type": "code",
   "execution_count": 91,
   "metadata": {},
   "outputs": [
    {
     "name": "stdout",
     "output_type": "stream",
     "text": [
      "하하카,76,155,31.63371488033298,과체중\n",
      "다카타,81,143,39.61073891143822,과체중\n",
      "하카타,92,184,27.173913043478258,과체중\n",
      "라자타,96,174,31.708283789139912,과체중\n",
      "라바바,71,196,18.481882548937943,저체중\n",
      "사자바,95,190,26.315789473684212,과체중\n",
      "카사라,76,160,29.687499999999993,과체중\n",
      "가하자,71,199,17.928840180803515,저체중\n",
      "나하하,99,194,26.304601976830696,과체중\n",
      "마하마,79,184,23.334120982986768,정상체중\n",
      "타다차,57,167,20.43816558499767,정상체중\n",
      "가라다,93,144,44.84953703703704,과체중\n",
      "나타파,47,194,12.488043362737805,저체중\n",
      "사바자,81,168,28.69897959183674,과체중\n",
      "가라사,65,161,25.076193048107708,과체중\n",
      "바차마,58,183,17.319119710949863,저체중\n",
      "다카가,90,180,27.777777777777775,과체중\n",
      "라마가,48,173,16.037956497043,저체중\n",
      "라나바,47,159,18.59103674696412,정상체중\n",
      "가카바,78,171,26.674874320303687,과체중\n",
      "자파가,79,166,28.668892437218755,과체중\n",
      "나다파,81,168,28.69897959183674,과체중\n",
      "가자아,99,147,45.81424406497293,과체중\n",
      "타바바,82,193,22.014013799028163,정상체중\n",
      "자마다,60,173,20.04744562130375,정상체중\n",
      "파라자,73,165,26.813590449954088,과체중\n",
      "카하다,44,194,11.690934211924754,저체중\n",
      "차마바,48,155,19.979188345473464,정상체중\n",
      "라하파,67,155,27.887617065556707,과체중\n",
      "차라아,91,166,33.02366090869502,과체중\n",
      "차차나,40,165,14.692378328741967,저체중\n"
     ]
    }
   ],
   "source": [
    "with open('innfo.txt', 'r') as file:\n",
    "    \n",
    "    cnt = 0;\n",
    "    \n",
    "    for line in file:\n",
    "        if cnt > 30 :\n",
    "            break\n",
    "        #print(line.strip())        \n",
    "        \n",
    "        name, weight, height = line.strip().split(',')\n",
    "        \n",
    "        # 변수의 값의 유무를 확인하고 값을 처리하지 않는 처리\n",
    "        if(not name) or (not weight) or (not height):\n",
    "            continue\n",
    "        \n",
    "        bmi = int(weight) / ((int(height)/100)*(int(height)/100))\n",
    "        \n",
    "        result = ''\n",
    "        \n",
    "        if bmi >= 25:\n",
    "            result = '과체중'\n",
    "        elif bmi >= 18.5:\n",
    "            result = '정상체중'\n",
    "        else:\n",
    "            result = '저체중'\n",
    "        \n",
    "        cnt += 1\n",
    "        \n",
    "        print('{},{},{},{},{}'.format(name, weight, height, bmi, result))\n",
    "        "
   ]
  }
 ],
 "metadata": {
  "kernelspec": {
   "display_name": "Python 3",
   "language": "python",
   "name": "python3"
  },
  "language_info": {
   "codemirror_mode": {
    "name": "ipython",
    "version": 3
   },
   "file_extension": ".py",
   "mimetype": "text/x-python",
   "name": "python",
   "nbconvert_exporter": "python",
   "pygments_lexer": "ipython3",
   "version": "3.8.5"
  }
 },
 "nbformat": 4,
 "nbformat_minor": 4
}

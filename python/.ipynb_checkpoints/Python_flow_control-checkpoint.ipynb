{
 "cells": [
  {
   "cell_type": "code",
   "execution_count": 1,
   "metadata": {},
   "outputs": [],
   "source": [
    "# 프로그램의 흐름제어 : 분기, 반복"
   ]
  },
  {
   "cell_type": "code",
   "execution_count": 2,
   "metadata": {},
   "outputs": [],
   "source": [
    "# if조건문\n",
    "# if 논리값(비교연산 또는 논리연산) :\n",
    "#____참일 시 실행할 문장 (반드시 4칸 들여쓰기)"
   ]
  },
  {
   "cell_type": "code",
   "execution_count": 26,
   "metadata": {},
   "outputs": [
    {
     "name": "stdout",
     "output_type": "stream",
     "text": [
      "정수 입력>>-7\n",
      "-7\n",
      "음수\n",
      "음수\n"
     ]
    }
   ],
   "source": [
    "# 입력값 받기\n",
    "number = input('정수 입력>>')\n",
    "number = int(number)\n",
    "print(number)\n",
    "\n",
    "if number>0 :\n",
    "    print('양수')\n",
    "if number<0 :\n",
    "    print('음수')\n",
    "if number==0 :\n",
    "    print('0')\n",
    "    \n",
    "if number>0 :\n",
    "    print('양수')\n",
    "elif number<0 :\n",
    "    print('음수')\n",
    "else :\n",
    "    print('0')"
   ]
  },
  {
   "cell_type": "code",
   "execution_count": 20,
   "metadata": {},
   "outputs": [
    {
     "name": "stdout",
     "output_type": "stream",
     "text": [
      "2021-02-04 10:53:52.432571\n",
      "2021.2.4. 10:53:52\n",
      "2021\n",
      "2\n",
      "4\n",
      "10\n",
      "53\n",
      "52\n",
      "이번 달은 2월로 겨울 입니다.\n"
     ]
    }
   ],
   "source": [
    "# 모듈호출 : datetime -> 날짜와 시간을 다루는 모듈\n",
    "import datetime\n",
    "\n",
    "# 현재 시간 구하기\n",
    "now = datetime.datetime.now()\n",
    "# 출력\n",
    "print(now)\n",
    "print('{}.{}.{}. {}:{}:{}'.format(now.year, now.month, now.day, now.hour, now.minute, now.second))\n",
    "print(now.year)\n",
    "print(now.month)\n",
    "print(now.day)\n",
    "print(now.hour)\n",
    "print(now.minute)\n",
    "print(now.second)\n",
    "\n",
    "if 3 <= now.month <= 5 :\n",
    "    print('이번 달은 {}월로 봄 입니다.'.format(now.month))\n",
    "if  6<= now.month <= 8 :\n",
    "    print('이번 달은 {}월로 여름 입니다.'.format(now.month))\n",
    "if 9 <= now.month <= 11 :\n",
    "    print('이번 달은 {}월로 가을 입니다.'.format(now.month))\n",
    "if 12 == now.month or 1 <= now.month <= 2 :\n",
    "    print('이번 달은 {}월로 겨울 입니다.'.format(now.month))"
   ]
  },
  {
   "cell_type": "code",
   "execution_count": 24,
   "metadata": {},
   "outputs": [
    {
     "name": "stdout",
     "output_type": "stream",
     "text": [
      "정수 입력>>5\n",
      "홀수입니다.\n",
      "홀수입니다.\n"
     ]
    }
   ],
   "source": [
    "# 홀짝수 판별\n",
    "number = input('정수 입력>>')\n",
    "num = number[-1] # 문자열의 마지막 문자를 반환(추출)\n",
    "if num in '02468' :\n",
    "    print('짝수입니다.')\n",
    "if num in '13579' :\n",
    "    print('홀수입니다.')\n",
    "    \n",
    "last_num = int(num)%2\n",
    "if last_num == 0 :\n",
    "    print('짝수입니다.')\n",
    "else :\n",
    "    print('홀수입니다.')"
   ]
  },
  {
   "cell_type": "code",
   "execution_count": 32,
   "metadata": {},
   "outputs": [
    {
     "name": "stdout",
     "output_type": "stream",
     "text": [
      "0입니다\n",
      "데이터 입력 성공.\n"
     ]
    }
   ],
   "source": [
    "# 논리값 False로 변환되는 값 -> None, 0. 0.0, 비어있는 문자열, 비어있는 리스트\n",
    "\n",
    "result = 1 #DB insert의 결과\n",
    "\n",
    "\n",
    "if 0 :\n",
    "    print('0이 아닙니다.')\n",
    "else :\n",
    "    print('0입니다')\n",
    "    \n",
    "if result :\n",
    "    print('데이터 입력 성공.')\n",
    "else :\n",
    "    print('데이터 입력 실패')    "
   ]
  },
  {
   "cell_type": "code",
   "execution_count": 35,
   "metadata": {},
   "outputs": [],
   "source": [
    "# pass : 반드시 구현해야하는 영역을 비워두는 경우 오류가 발생 -> pass 키워드를 사용하면 오류발생하지 않음\n",
    "\n",
    "zero = 0\n",
    "if zero == 0 :\n",
    "    pass\n",
    "else :\n",
    "    pass\n"
   ]
  },
  {
   "cell_type": "code",
   "execution_count": 40,
   "metadata": {},
   "outputs": [
    {
     "name": "stdout",
     "output_type": "stream",
     "text": [
      "112\n",
      "문자열\n",
      "3.14152\n",
      "True\n",
      "False\n",
      "['문자열', 3.14152]\n",
      "변경\n"
     ]
    }
   ],
   "source": [
    "# 여러 데이터를 저장해서 사용하는 list\n",
    "list_a = [112, '문자열', 3.14152, True, False]\n",
    "print(list_a[0])\n",
    "print(list_a[1])\n",
    "print(list_a[2])\n",
    "print(list_a[3])\n",
    "print(list_a[4])\n",
    "print(list_a[1:3])\n",
    "list_a[1]=\"변경\"\n",
    "print(list_a[1])"
   ]
  },
  {
   "cell_type": "code",
   "execution_count": 48,
   "metadata": {},
   "outputs": [
    {
     "name": "stdout",
     "output_type": "stream",
     "text": [
      "list_a : [1, 2, 3]\n",
      "list_b : [4, 5, 6]\n",
      "\n",
      "[1, 2, 3, 4, 5, 6]\n",
      "[1, 2, 3, 1, 2, 3, 1, 2, 3]\n",
      "[1, 2, 3, 4, 5, 6, 1, 2, 3, 4, 5, 6, 1, 2, 3, 4, 5, 6]\n",
      "\n",
      "[1, 2, 3]\n"
     ]
    }
   ],
   "source": [
    "# 리스트 연산자 : 연결(+), 반복(*), len()\n",
    "list_a = [1,2,3]\n",
    "list_b = [4,5,6]\n",
    "\n",
    "print('list_a :', list_a)\n",
    "print('list_b :', list_b)\n",
    "\n",
    "print()\n",
    "\n",
    "list_new = list_a+list_b\n",
    "list_new *= 3  # 복합대입연산\n",
    "\n",
    "print(list_a+list_b)\n",
    "print(list_a*3)\n",
    "print(list_new)\n",
    "\n",
    "print()\n",
    "\n",
    "print(list_a)"
   ]
  },
  {
   "cell_type": "code",
   "execution_count": 66,
   "metadata": {},
   "outputs": [
    {
     "name": "stdout",
     "output_type": "stream",
     "text": [
      "[1, 2, 3, 4, 5]\n",
      "\n",
      "[10, 1, 2, 3, 4, 5]\n",
      "\n",
      "[10, 1, 2, 3, 4, 5, 6, 7, 8, 9]\n",
      "\n",
      "[1, 2, 3, 4, 5, 6, 7, 8, 9]\n",
      "1\n",
      "[1, 2, 3, 4, 5, 6, 8, 9]\n",
      "8\n",
      "\n",
      "[8, 9]\n",
      "\n",
      "[1, 1, 2]\n",
      "\n",
      "[]\n",
      "\n",
      "True\n",
      "False\n"
     ]
    }
   ],
   "source": [
    "list_c = [1,2,3]\n",
    "\n",
    "# 리스트에 요소를 맨 뒤로 추가\n",
    "list_c.append(4)\n",
    "list_c.append(5)\n",
    "print(list_c)\n",
    "\n",
    "print()\n",
    "\n",
    "# 특정 위치(index)에 요소 추가 \n",
    "list_c.insert(0, 10)\n",
    "print(list_c)\n",
    "\n",
    "print()\n",
    "\n",
    "# 원본 리스트에 다른 리스트의 모든 요소를 추가\n",
    "list_d = [6,7,8,9]\n",
    "list_c.extend(list_d)\n",
    "print(list_c)\n",
    "\n",
    "print()\n",
    "\n",
    "# 리스트에 요소 제거\n",
    "# del\n",
    "del list_c[0]\n",
    "print(list_c)\n",
    "print(list_c[0])\n",
    "\n",
    "# pop()\n",
    "list_c.pop(6)\n",
    "print(list_c)\n",
    "print(list_c[6])\n",
    "\n",
    "print()\n",
    "\n",
    "# 리스트의 범위 삭제 : del\n",
    "#del list_c[3:6]\n",
    "del list_c[:6]\n",
    "print(list_c)\n",
    "\n",
    "print()\n",
    "\n",
    "# 요소의 값으로 요소 삭제\n",
    "#remove(요소값)\n",
    "list_e = [1,2,1,2]\n",
    "list_e.remove(2)\n",
    "print(list_e)\n",
    "\n",
    "print()\n",
    "\n",
    "# 리스트의 모든 요소를 삭제 : clear()\n",
    "list_c.clear()\n",
    "print(list_c)\n",
    "\n",
    "print()\n",
    "\n",
    "# 리스트 내부에 있는지 확인 : in / not in -> 논리값 반환\n",
    "# 분기 처리하는 if의 조건식, 반복의 조건으로 사용\n",
    "print(1 in list_e)\n",
    "print(3 in list_e)"
   ]
  },
  {
   "cell_type": "code",
   "execution_count": 68,
   "metadata": {},
   "outputs": [
    {
     "name": "stdout",
     "output_type": "stream",
     "text": [
      "112\n",
      "119\n",
      "100\n",
      "106\n",
      "111\n"
     ]
    }
   ],
   "source": [
    "# 반복문 for : for 요소 in 반복가능한 것\n",
    "# for i in range(5):\n",
    "#    print(i)\n",
    "\n",
    "list_num = [112, 119, 100, 106, 111]\n",
    "for number in list_num:\n",
    "    print(number)"
   ]
  },
  {
   "cell_type": "code",
   "execution_count": 70,
   "metadata": {},
   "outputs": [
    {
     "name": "stdout",
     "output_type": "stream",
     "text": [
      "<class 'list'>\n",
      "<class 'dict'>\n"
     ]
    }
   ],
   "source": [
    "list_f = []\n",
    "dic_a = {}\n",
    "print(type(list_f))\n",
    "print(type(dic_a))"
   ]
  },
  {
   "cell_type": "code",
   "execution_count": 91,
   "metadata": {},
   "outputs": [
    {
     "name": "stdout",
     "output_type": "stream",
     "text": [
      "{'name': '손흥민', 'age': 20}\n",
      "손흥민\n",
      "20\n",
      "{'name': '손흥민', 'age': 20, 'job': 'football player'}\n",
      "{'name': '손흥민', 'age': 30, 'job': 'football player'}\n",
      "{'name': '손흥민', 'job': 'football player'}\n",
      "football player\n",
      "손흥민\n",
      "None\n",
      "값이 없다\n",
      "=========================\n",
      "name : 손흥민\n",
      "job : football player\n",
      "=========================\n"
     ]
    }
   ],
   "source": [
    "# dictionary 딕셔너리 : 키를 기반으로 저장하는 것\n",
    "dic_person = {    \n",
    "    'name':'손흥민', \n",
    "    'age' : 20\n",
    "}\n",
    "print(dic_person)\n",
    "print(dic_person['name'])\n",
    "print(dic_person['age'])\n",
    "\n",
    "# key, value값 추가\n",
    "dic_person['job'] = 'football player'\n",
    "print(dic_person)\n",
    "# 값 변경\n",
    "dic_person['age'] = 30\n",
    "print(dic_person)\n",
    "\n",
    "# 딕셔너리 속성 삭제\n",
    "del dic_person['age']\n",
    "print(dic_person)\n",
    "\n",
    "print(dic_person['job'])\n",
    "\n",
    "# get 함수를 이용한 요소 참조\n",
    "print(dic_person.get('name'))\n",
    "print(dic_person.get('age'))\n",
    "\n",
    "if dic_person.get('age') :\n",
    "    print(dic_person.get('age'))\n",
    "else :\n",
    "    print('값이 없다')\n",
    "    \n",
    "print('=========================')    \n",
    "# for 반복문을 이용해서 일괄처리\n",
    "for key in dic_person :\n",
    "    print(key, ':', dic_person[key])\n",
    "print('=========================') "
   ]
  },
  {
   "cell_type": "code",
   "execution_count": 94,
   "metadata": {},
   "outputs": [
    {
     "name": "stdout",
     "output_type": "stream",
     "text": [
      "0\n",
      "1\n",
      "2\n",
      "3\n",
      "4\n"
     ]
    }
   ],
   "source": [
    "# for반복문에서 특정 횟수만큼 반복 처리를 하기 위해서는 range() 함수와 같이 써야한다.\n",
    "for i in range(5) : \n",
    "    print(i)"
   ]
  },
  {
   "cell_type": "code",
   "execution_count": 103,
   "metadata": {},
   "outputs": [
    {
     "name": "stdout",
     "output_type": "stream",
     "text": [
      "range(0, 5)\n",
      "<class 'range'>\n",
      "<class 'list'>\n",
      "[0, 1, 2, 3, 4]\n"
     ]
    },
    {
     "data": {
      "text/plain": [
       "[3, 4, 5, 6, 7, 8, 9]"
      ]
     },
     "execution_count": 103,
     "metadata": {},
     "output_type": "execute_result"
    }
   ],
   "source": [
    "range_a = range(5)\n",
    "print(range_a)\n",
    "print(type(range_a))\n",
    "\n",
    "list_tmp = list(range_a)\n",
    "print(type(list_tmp)) \n",
    "print(list_tmp)\n",
    "\n",
    "list(range(10)) # 마지막 번호 0 ~ 10-1\n",
    "list(range(3, 10)) # 3 ~ 10-1\n",
    "list(range(0, 10, 2)) # 0 ~ 10-1 (2씩 증가)"
   ]
  },
  {
   "cell_type": "code",
   "execution_count": 108,
   "metadata": {},
   "outputs": [
    {
     "name": "stdout",
     "output_type": "stream",
     "text": [
      "5\n",
      "100\n",
      "0 : 100\n",
      "1 : 300\n",
      "2 : 123\n",
      "3 : 999\n",
      "4 : 456\n"
     ]
    }
   ],
   "source": [
    "# for반복문 + 리스트와 범위 조합\n",
    "array = [100, 300, 123, 999, 456]\n",
    "print(len(array))\n",
    "print(array[0])\n",
    "\n",
    "for i in range(len(array)):\n",
    "    print(i, ':', array[i])"
   ]
  },
  {
   "cell_type": "code",
   "execution_count": 111,
   "metadata": {},
   "outputs": [
    {
     "name": "stdout",
     "output_type": "stream",
     "text": [
      "4 : 456\n",
      "3 : 999\n",
      "2 : 123\n",
      "1 : 300\n",
      "0 : 100\n"
     ]
    }
   ],
   "source": [
    "for i in reversed(range(5)):\n",
    "    print(i, ':', array[i])"
   ]
  },
  {
   "cell_type": "code",
   "execution_count": 112,
   "metadata": {},
   "outputs": [
    {
     "name": "stdout",
     "output_type": "stream",
     "text": [
      "[1, 2, 1, 2]\n",
      "[1, 1]\n"
     ]
    }
   ],
   "source": [
    "# while반복문 (for반목문 처럼 사용 가능)\n",
    "list_ex = [1,2,1,2]\n",
    "print(list_ex)    \n",
    "while 2 in list_ex:\n",
    "    list_ex.remove(2)\n",
    "print(list_ex)    "
   ]
  }
 ],
 "metadata": {
  "kernelspec": {
   "display_name": "Python 3",
   "language": "python",
   "name": "python3"
  },
  "language_info": {
   "codemirror_mode": {
    "name": "ipython",
    "version": 3
   },
   "file_extension": ".py",
   "mimetype": "text/x-python",
   "name": "python",
   "nbconvert_exporter": "python",
   "pygments_lexer": "ipython3",
   "version": "3.8.5"
  }
 },
 "nbformat": 4,
 "nbformat_minor": 4
}
